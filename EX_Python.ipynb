{
  "nbformat": 4,
  "nbformat_minor": 0,
  "metadata": {
    "colab": {
      "provenance": [],
      "authorship_tag": "ABX9TyPIGHNeZRogPpvIFdC7EuAM"
    },
    "kernelspec": {
      "name": "python3",
      "display_name": "Python 3"
    },
    "language_info": {
      "name": "python"
    }
  },
  "cells": [
    {
      "cell_type": "markdown",
      "source": [
        "##Comandos Básicos"
      ],
      "metadata": {
        "id": "iRRHCV5_IbQh"
      }
    },
    {
      "cell_type": "code",
      "execution_count": null,
      "metadata": {
        "id": "mKE0gNDG7LAR",
        "colab": {
          "base_uri": "https://localhost:8080/"
        },
        "outputId": "d09315b4-9d51-4906-fee3-c6245b76c69e"
      },
      "outputs": [
        {
          "output_type": "stream",
          "name": "stdout",
          "text": [
            "Seja bem vindo mario seu produto sera encaminhado para Rua dos Cogumelos, 274\n"
          ]
        }
      ],
      "source": [
        "#variais numéricas\n",
        "idade = 30\n",
        "peso = 49.5\n",
        "\n",
        "#variaveis de texto\n",
        "nome = \"mario\"\n",
        "endereco = 'Rua dos Cogumelos, 274'\n",
        "\n",
        "print('Seja bem vindo', nome, 'seu produto sera encaminhado para', endereco)\n",
        "\n"
      ]
    },
    {
      "cell_type": "code",
      "source": [
        "idade = 30 + 1\n",
        "print('idade icinial', idade)\n",
        "idade = idade + 2\n",
        "print('idade final', idade)"
      ],
      "metadata": {
        "colab": {
          "base_uri": "https://localhost:8080/"
        },
        "id": "jkWVqeKNJXxE",
        "outputId": "9be1750d-f458-46f5-c954-a91cf7fbd28e"
      },
      "execution_count": null,
      "outputs": [
        {
          "output_type": "stream",
          "name": "stdout",
          "text": [
            "idade icinial 31\n",
            "idade final 33\n"
          ]
        }
      ]
    },
    {
      "cell_type": "code",
      "source": [
        "idade = 30\n",
        "nome = 'Mario'\n",
        "print('Olá, {} sua idade é {}.'.format(idade, nome))\n",
        "print(f'Olá, {idade} sua idade é {nome}.')\n",
        "\n",
        "print(f'Olá, {idade}, sua idade é {nome}.')\n"
      ],
      "metadata": {
        "colab": {
          "base_uri": "https://localhost:8080/"
        },
        "id": "-BebO1TEJvhD",
        "outputId": "e0af2f7d-f8ae-44a8-bfcc-88647a90b214"
      },
      "execution_count": null,
      "outputs": [
        {
          "output_type": "stream",
          "name": "stdout",
          "text": [
            "Olá, 30 sua idade é Mario.\n",
            "Olá, 30 sua idade é Mario.\n",
            "Olá, 30, sua idade é Mario.\n"
          ]
        }
      ]
    },
    {
      "cell_type": "code",
      "source": [
        "# prompt: print com todas as operações matemáticas\n",
        "\n",
        "# ##Comandos Básicos\n",
        "#variais numéricas\n",
        "idade = 30\n",
        "peso = 49.5\n",
        "\n",
        "#variaveis de texto\n",
        "nome = \"mario\"\n",
        "endereco = 'Rua dos Cogumelos, 274'\n",
        "\n",
        "print('Seja bem vindo', nome, 'seu produto sera encaminhado para', endereco)\n",
        "\n",
        "\n",
        "idade = 30 + 1\n",
        "print('idade icinial', idade)\n",
        "idade = idade + 2\n",
        "print('idade final', idade)\n",
        "idade = 30\n",
        "nome = 'Mario'\n",
        "print('Olá, {} sua idade é {}.'.format(idade, nome))\n",
        "print(f'Olá, {idade} sua idade é {nome}.')\n",
        "\n",
        "print(f'Olá, {idade}, sua idade é {nome}.')\n",
        "\n",
        "# Operações matemáticas\n",
        "a = 10\n",
        "b = 5\n",
        "\n",
        "# Adição\n",
        "soma = a + b\n",
        "print(f\"Soma: {soma}\")\n",
        "\n",
        "# Subtração\n",
        "subtracao = a - b\n",
        "print(f\"Subtração: {subtracao}\")\n",
        "\n",
        "# Multiplicação\n",
        "multiplicacao = a * b\n",
        "print(f\"Multiplicação: {multiplicacao}\")\n",
        "\n",
        "# Divisão\n",
        "divisao = a / b\n",
        "print(f\"Divisão: {divisao}\")\n",
        "\n",
        "# Divisão inteira\n",
        "divisao_inteira = a // b\n",
        "print(f\"Divisão inteira: {divisao_inteira}\")\n",
        "\n",
        "# Módulo (resto da divisão)\n",
        "modulo = a % b\n",
        "print(f\"Módulo: {modulo}\")\n",
        "\n",
        "# Exponenciação\n",
        "exponenciacao = a ** b\n",
        "print(f\"Exponenciação: {exponenciacao}\")\n"
      ],
      "metadata": {
        "id": "KGikvT3RKm3I",
        "colab": {
          "base_uri": "https://localhost:8080/"
        },
        "outputId": "a8cf9d64-b86a-4abe-c762-42a7377abd5d"
      },
      "execution_count": null,
      "outputs": [
        {
          "output_type": "stream",
          "name": "stdout",
          "text": [
            "Seja bem vindo mario seu produto sera encaminhado para Rua dos Cogumelos, 274\n",
            "idade icinial 31\n",
            "idade final 33\n",
            "Olá, 30 sua idade é Mario.\n",
            "Olá, 30 sua idade é Mario.\n",
            "Olá, 30, sua idade é Mario.\n",
            "Soma: 15\n",
            "Subtração: 5\n",
            "Multiplicação: 50\n",
            "Divisão: 2.0\n",
            "Divisão inteira: 2\n",
            "Módulo: 0\n",
            "Exponenciação: 100000\n"
          ]
        }
      ]
    },
    {
      "cell_type": "code",
      "source": [
        "print(3+4)\n",
        "print(8-4)\n",
        "print(5*4)\n",
        "print(7/2)#divisão real/divisão float\n",
        "print(7//2)#divisão inteira\n",
        "print(7%2)#resto da divisão\n",
        "print(3**2)#potencia"
      ],
      "metadata": {
        "colab": {
          "base_uri": "https://localhost:8080/"
        },
        "id": "9HM6ntEpK1NO",
        "outputId": "85805474-0366-449e-95c9-a03b42509849"
      },
      "execution_count": null,
      "outputs": [
        {
          "output_type": "stream",
          "name": "stdout",
          "text": [
            "7\n",
            "4\n",
            "20\n",
            "3.5\n",
            "3\n",
            "1\n",
            "9\n"
          ]
        }
      ]
    },
    {
      "cell_type": "code",
      "source": [
        "a = int(input(\"Digite um número: \"))\n",
        "b = int(input(\"Digite outro número: \"))\n",
        "res_1 = a / b\n",
        "res_2 = a // b\n",
        "res_3 = a % b\n",
        "print(f\"Seu resultado é: {res_1:.4f}\")\n",
        "print(f\"Seu resultado é: {res_2}\")\n",
        "print(f\"Seu resultado é: {res_3}\")\n",
        "\n",
        "\n"
      ],
      "metadata": {
        "colab": {
          "base_uri": "https://localhost:8080/"
        },
        "id": "V4e42_gdieh-",
        "outputId": "06858b7c-e05d-4ef6-c2ff-42551d51a98c"
      },
      "execution_count": null,
      "outputs": [
        {
          "output_type": "stream",
          "name": "stdout",
          "text": [
            "Digite um número: 4\n",
            "Digite outro número: 2\n",
            "Seu resultado é: 2.0000\n",
            "Seu resultado é: 2\n",
            "Seu resultado é: 0\n"
          ]
        }
      ]
    },
    {
      "cell_type": "code",
      "source": [
        "nome = input(\"digite seu nome: \")\n",
        "print('Olá', nome)\n"
      ],
      "metadata": {
        "colab": {
          "base_uri": "https://localhost:8080/"
        },
        "id": "fIdNbzdxL4_K",
        "outputId": "c69dd026-3704-47c8-a66a-625138a89c41"
      },
      "execution_count": null,
      "outputs": [
        {
          "output_type": "stream",
          "name": "stdout",
          "text": [
            "digite seu nome: joao\n",
            "Olá joao\n"
          ]
        }
      ]
    },
    {
      "cell_type": "code",
      "source": [
        "import math\n",
        "raio = 7\n",
        "circunferencia = \"A circunferência de um círculo com raio {0} é {1:.2f}.\".format(raio, 2 * math.pi * raio)\n",
        "print(circunferencia)"
      ],
      "metadata": {
        "colab": {
          "base_uri": "https://localhost:8080/"
        },
        "id": "1No0CmIxwJmq",
        "outputId": "8c758953-9621-432c-d869-464e8b2172da"
      },
      "execution_count": null,
      "outputs": [
        {
          "output_type": "stream",
          "name": "stdout",
          "text": [
            "A circunferência de um círculo com raio 7 é 43.98.\n"
          ]
        }
      ]
    },
    {
      "cell_type": "code",
      "source": [
        "n1 = float(input(\"Digite a primeira nota: \"))\n",
        "n2 = float(input(\"Digite a segunda nota: \"))\n",
        "n3 = float(input(\"Digite a terceira nota: \"))\n",
        "mediaponderada = (n1 * 1 + n2 * 3 + n3 * 5) / (1 + 3 + 5)\n",
        "# utilização do método round()\n",
        "print(\"sua nota pela média ponderada é: \",round(mediaponderada,2))\n",
        "# utilização do método str.format()\n",
        "print(\"sua nota pela média ponderada é: {:.2f}\".format(mediaponderada))\n"
      ],
      "metadata": {
        "colab": {
          "base_uri": "https://localhost:8080/"
        },
        "id": "nK9UIxCqMYmQ",
        "outputId": "7605b4fc-67e6-4fab-b4c0-9978c75ef7a2"
      },
      "execution_count": null,
      "outputs": [
        {
          "output_type": "stream",
          "name": "stdout",
          "text": [
            "Digite a primeira nota: 50\n",
            "Digite a segunda nota: 60\n",
            "Digite a terceira nota: 87\n",
            "sua nota pela média ponderada é:  73.89\n",
            "sua nota pela média ponderada é: 73.89\n"
          ]
        }
      ]
    },
    {
      "cell_type": "markdown",
      "source": [
        "## Exercícios"
      ],
      "metadata": {
        "id": "9DHeAnBFNs1S"
      }
    },
    {
      "cell_type": "code",
      "source": [
        "# prompt: leia três notas de um aluno e informe a média\n",
        "\n",
        "nota1 = float(input(\"Digite a primeira nota: \"))\n",
        "nota2 = float(input(\"Digite a segunda nota: \"))\n",
        "nota3 = float(input(\"Digite a terceira nota: \"))\n",
        "\n",
        "media = (nota1 + nota2 + nota3) / 3\n",
        "\n",
        "print(f\"A média das notas é: {media:.2f}\")\n"
      ],
      "metadata": {
        "colab": {
          "base_uri": "https://localhost:8080/"
        },
        "id": "qjyN3W0iJFwr",
        "outputId": "d79c7297-bc42-4628-c8b8-6d4acecd7dec"
      },
      "execution_count": null,
      "outputs": [
        {
          "output_type": "stream",
          "name": "stdout",
          "text": [
            "Digite a primeira nota: 80\n",
            "Digite a segunda nota: 90\n",
            "Digite a terceira nota: 10\n",
            "A média das notas é: 60.00\n"
          ]
        }
      ]
    },
    {
      "cell_type": "code",
      "source": [
        "# prompt: operadores relacionais em python\n",
        "\n",
        "# Operadores Relacionais em Python\n",
        "\n",
        "a = 10\n",
        "b = 5\n",
        "\n",
        "# Igualdade\n",
        "print(f\"a == b: {a == b}\")  # False\n",
        "\n",
        "# Diferença\n",
        "print(f\"a != b: {a != b}\")  # True\n",
        "\n",
        "# Maior que\n",
        "print(f\"a > b: {a > b}\")  # True\n",
        "\n",
        "# Menor que\n",
        "print(f\"a < b: {a < b}\")  # False\n",
        "\n",
        "# Maior ou igual a\n",
        "print(f\"a >= b: {a >= b}\")  # True\n",
        "\n",
        "# Menor ou igual a\n",
        "print(f\"a <= b: {a <= b}\")  # False\n"
      ],
      "metadata": {
        "id": "wBmYwjnKK_cQ",
        "outputId": "14fcd8b0-7c89-42b4-9840-a0b0f6720507",
        "colab": {
          "base_uri": "https://localhost:8080/"
        }
      },
      "execution_count": null,
      "outputs": [
        {
          "output_type": "stream",
          "name": "stdout",
          "text": [
            "a == b: False\n",
            "a != b: True\n",
            "a > b: True\n",
            "a < b: False\n",
            "a >= b: True\n",
            "a <= b: False\n"
          ]
        }
      ]
    },
    {
      "cell_type": "code",
      "source": [
        "print(\"Informe suas 3 notas da prova\")\n",
        "n1 = float(input(\"Digite sua primeira nota: \"))\n",
        "n2 = float(input(\"Digite sua segunda nota: \"))\n",
        "n3 = float(input(\"Digite sua terceira nota: \"))\n",
        "resultado = (n1 + n2 + n3) / 3\n",
        "print(f\"Sua média é: {resultado:.2f}\")\n"
      ],
      "metadata": {
        "colab": {
          "base_uri": "https://localhost:8080/"
        },
        "id": "TFM7-PeflDZz",
        "outputId": "e7014a68-4212-426c-f5fa-f7fb13da0f8c"
      },
      "execution_count": null,
      "outputs": [
        {
          "output_type": "stream",
          "name": "stdout",
          "text": [
            "Informe suas 3 notas da prova\n",
            "Digite sua primeira nota: 80\n",
            "Digite sua segunda nota: 90\n",
            "Digite sua terceira nota: 50\n",
            "Sua média é: 73.33\n"
          ]
        }
      ]
    },
    {
      "cell_type": "code",
      "source": [
        "n1 = float(input(\"Digite sua nota 1: \"))\n",
        "n2 = float(input(\"Digite sua nota 2: \"))\n",
        "n3 = float(input(\"Digite sua nota 3: \"))\n",
        "resultado = (n1 * 1 + n2 * 3 + n3 * 5) / 3\n",
        "print(f\"Sua média ponderada é: {resultado:.2f}\")\n",
        "\n"
      ],
      "metadata": {
        "colab": {
          "base_uri": "https://localhost:8080/"
        },
        "id": "2UMLSSclmbI2",
        "outputId": "f2221447-59cb-4438-947f-b9d3904cb705"
      },
      "execution_count": null,
      "outputs": [
        {
          "output_type": "stream",
          "name": "stdout",
          "text": [
            "Digite sua nota 1: 30\n",
            "Digite sua nota 2: 50\n",
            "Digite sua nota 3: 60\n",
            "Sua média ponderada é: 160.00\n"
          ]
        }
      ]
    },
    {
      "cell_type": "code",
      "source": [
        "# prompt: 2- Agora calcule a média ponderada considerando os pesos 1 3 5 nas três provas\n",
        "\n",
        "n1 = float(input(\"Digite sua nota 1: \"))\n",
        "n2 = float(input(\"Digite sua nota 2: \"))\n",
        "n3 = float(input(\"Digite sua nota 3: \"))\n",
        "resultado = (n1 * 1 + n2 * 3 + n3 * 5) / (1 + 3 + 5) #corrigido o denominador para a soma dos pesos\n",
        "print(f\"Sua média ponderada é: {resultado:.2f}\")\n"
      ],
      "metadata": {
        "id": "kX1J2tzImcxv"
      },
      "execution_count": null,
      "outputs": []
    },
    {
      "cell_type": "code",
      "source": [
        "import math\n",
        "raio = 10\n",
        "area = math.pi * raio ** 2\n",
        "print('A área do ciruclo é: ', area)\n"
      ],
      "metadata": {
        "colab": {
          "base_uri": "https://localhost:8080/"
        },
        "id": "t_9fiyU0mdN1",
        "outputId": "e6f78ad2-21b9-4288-ae46-2b02cad2db83"
      },
      "execution_count": null,
      "outputs": [
        {
          "output_type": "stream",
          "name": "stdout",
          "text": [
            "A área do ciruclo é:  314.1592653589793\n"
          ]
        }
      ]
    },
    {
      "cell_type": "markdown",
      "source": [
        "##Desvio Lógico"
      ],
      "metadata": {
        "id": "r7KqVirNxw6Q"
      }
    },
    {
      "cell_type": "code",
      "source": [
        "idade = int(input('Digite sua idade: '))\n",
        "if idade < 18:\n",
        "  print('Acesso bloqueado')\n",
        "else:\n",
        "  print('Acessp liberado')\n"
      ],
      "metadata": {
        "colab": {
          "base_uri": "https://localhost:8080/"
        },
        "id": "j6QGk6Wzx1aP",
        "outputId": "cec50bc8-2868-4283-a8ef-caba690a900b"
      },
      "execution_count": null,
      "outputs": [
        {
          "output_type": "stream",
          "name": "stdout",
          "text": [
            "Digite sua idade: 44\n",
            "Acessp liberado\n"
          ]
        }
      ]
    },
    {
      "cell_type": "code",
      "source": [
        "idade = int(input('digite sua idade: '))\n",
        "if idade < 18:\n",
        "  print('Acesso bloqueado')\n",
        "else:\n",
        "  print('Acesso liberado')\n"
      ],
      "metadata": {
        "colab": {
          "base_uri": "https://localhost:8080/"
        },
        "id": "vQDzbhgfys-c",
        "outputId": "3179c062-20e1-4207-dd0f-bb3c57c2edbb"
      },
      "execution_count": null,
      "outputs": [
        {
          "output_type": "stream",
          "name": "stdout",
          "text": [
            "digite sua idade: 44\n",
            "Acesso liberado\n"
          ]
        }
      ]
    },
    {
      "cell_type": "markdown",
      "source": [
        "##Operadores relacionais\n"
      ],
      "metadata": {
        "id": "pO8MLzIjzOcK"
      }
    },
    {
      "cell_type": "code",
      "source": [
        "# prompt: operadores relacionais e operadores logicos e explicar da um deles com novos exemplos\n",
        "\n",
        "# Operadores Lógicos em Python\n",
        "\n",
        "a = True\n",
        "b = False\n",
        "\n",
        "# AND lógico (e)\n",
        "print(f\"a and b: {a and b}\")  # False (ambas as condições precisam ser verdadeiras)\n",
        "\n",
        "# OR lógico (ou)\n",
        "print(f\"a or b: {a or b}\")  # True (pelo menos uma das condições precisa ser verdadeira)\n",
        "\n",
        "# NOT lógico (não)\n",
        "print(f\"not a: {not a}\")  # False (inverte o valor booleano)\n",
        "\n",
        "\n",
        "# Exemplos adicionais de operadores lógicos:\n",
        "\n",
        "idade = 20\n",
        "possui_carteira = True\n",
        "\n",
        "# Verifica se a pessoa é maior de idade E possui carteira de motorista\n",
        "if idade >= 18 and possui_carteira:\n",
        "    print(\"Pode dirigir.\")\n",
        "else:\n",
        "    print(\"Não pode dirigir.\")\n",
        "\n",
        "# Verifica se a pessoa é menor de idade OU não possui carteira de motorista\n",
        "if idade < 18 or not possui_carteira:\n",
        "    print(\"Não pode dirigir.\")\n",
        "else:\n",
        "    print(\"Pode dirigir.\")\n",
        "\n",
        "temperatura = 25\n",
        "umidade = 70\n",
        "\n",
        "# Verifica se a temperatura está acima de 20 graus E a umidade está acima de 60%\n",
        "if temperatura > 20 and umidade > 60:\n",
        "    print(\"Condições propícias para chuva.\")\n",
        "else:\n",
        "    print(\"Condições não propícias para chuva.\")\n",
        "\n",
        "\n",
        "#Outro exemplo com NOT\n",
        "tem_chuva = False\n",
        "if not tem_chuva: # se não estiver chovendo\n",
        "  print(\"Podemos ir ao parque\")\n",
        "else:\n",
        "  print(\"Vamos ficar em casa\")\n"
      ],
      "metadata": {
        "id": "M_CkDGY8zR4A"
      },
      "execution_count": null,
      "outputs": []
    },
    {
      "cell_type": "code",
      "source": [
        "a = float(input(\"Digite o valor da xj6: \"))\n",
        "b = float(input(\"Digite o valor do IPVA-PR: \"))\n",
        "res = (a * b / 100) / 5\n",
        "print(f'O resultado é: {res:.2f}')\n"
      ],
      "metadata": {
        "colab": {
          "base_uri": "https://localhost:8080/"
        },
        "id": "-tBu4sMe3GHx",
        "outputId": "95476899-bdc2-4215-eab9-2c086c534deb"
      },
      "execution_count": null,
      "outputs": [
        {
          "output_type": "stream",
          "name": "stdout",
          "text": [
            "Digite o valor da xj6: 33891\n",
            "Digite o valor do IPVA-PR: 3.5\n",
            "O resultado é: 237.24\n"
          ]
        }
      ]
    },
    {
      "cell_type": "code",
      "source": [
        "emprestimo = float(input(\"Qual foi o valor do emprśtimo: \"))"
      ],
      "metadata": {
        "id": "QdSjeh_qz_2F"
      },
      "execution_count": null,
      "outputs": []
    },
    {
      "cell_type": "markdown",
      "source": [
        "Pergunte ao usuário quantos anos, meses e dias ele viveu. E entrão responda o total de dias vividos por ele. Para simplificar o cáculo assuma todo o ano com 365 dias e todo o mês com 30 dias."
      ],
      "metadata": {
        "id": "mHI1jCcXiK9p"
      }
    },
    {
      "cell_type": "code",
      "source": [
        "anos, meses, dias = int(input(\"Informe anos\")), int(input(\"Informe meses\")), int(input(\"Informe dias\"))\n",
        "total_dias = (anos*365) + (meses*30) + dias\n",
        "print(f\"Sua idade em dias é\", total_dias)\n"
      ],
      "metadata": {
        "colab": {
          "base_uri": "https://localhost:8080/"
        },
        "id": "kxiC7AsWhzFj",
        "outputId": "292d51dc-2509-489c-91b7-25d358cd4f2d"
      },
      "execution_count": null,
      "outputs": [
        {
          "output_type": "stream",
          "name": "stdout",
          "text": [
            "Informe anos40\n",
            "Informe meses30\n",
            "Informe dias12\n",
            "Sua idade em dias é 15512\n"
          ]
        }
      ]
    },
    {
      "cell_type": "markdown",
      "source": [
        "assuma que uma determinada pessoa efetuou em emprestimo, e que a multa por dia de atraso do empréstimo é de 2%. Pergunte ao usuário o total emprestado, o total de dias e infome o valor dinal que deve ser pago. Utilize juros simples"
      ],
      "metadata": {
        "id": "Dv0Vs2ihlNYz"
      }
    },
    {
      "cell_type": "code",
      "source": [
        "valor_emprestimo, dias_atraso = float(input(\"Informe o valor do empréstimo: \")), int(input(\"Informe os dias em atraso: \"))\n",
        "multa_diaria = valor_emprestimo * (2/100)\n",
        "total = valor_emprestimo + (dias_atraso * multa_diaria)\n",
        "print(f\"O valor total do total do empréstimo é de:R$ {valor_emprestimo:.2f}\")\n",
        "print(f\"O valor da multa por dia de atraso é de: R$ {multa_diaria:.2f}\")\n",
        "print(f\"O valor total a ser pago: R$ {total:.2f}\")\n",
        "\n"
      ],
      "metadata": {
        "colab": {
          "base_uri": "https://localhost:8080/"
        },
        "id": "9Uj6-K-xksYu",
        "outputId": "796f6dda-efb2-417d-e4cd-b748d4402161"
      },
      "execution_count": null,
      "outputs": [
        {
          "output_type": "stream",
          "name": "stdout",
          "text": [
            "Informe o valor do empréstimo: 1000\n",
            "Informe os dias em atraso: 34\n",
            "O valor total do total do empréstimo é de:R$ 1000.00\n",
            "O valor da multa por dia de atraso é de: R$ 20.00\n",
            "O valor total a ser pago: R$ 1680.00\n"
          ]
        }
      ]
    },
    {
      "cell_type": "code",
      "source": [
        "valor_emprestado = 1000\n",
        "dias_atraso = 30\n",
        "juros = 2 / 100\n",
        "multa = valor_emprestado * juros\n",
        "total = valor_emprestado + (dias_atraso * multa)\n",
        "print(total)"
      ],
      "metadata": {
        "colab": {
          "base_uri": "https://localhost:8080/"
        },
        "id": "JrN1ZM4xyxy5",
        "outputId": "1cb68498-2826-4c90-fdbd-3bc211cda727"
      },
      "execution_count": null,
      "outputs": [
        {
          "output_type": "stream",
          "name": "stdout",
          "text": [
            "1600.0\n"
          ]
        }
      ]
    },
    {
      "cell_type": "markdown",
      "source": [
        "#Desvio_Lógico 2\n"
      ],
      "metadata": {
        "id": "TlGuoG4Nzb_2"
      }
    },
    {
      "cell_type": "code",
      "source": [
        "idade = int(input(\"Digite sua idade: \"))\n",
        "if idade >= 18:\n",
        "  print(\"Você é maior de idade\"), print(\"Acesso liberado\")\n",
        "else:\n",
        "  print(\"Você é menor de idade\"), print(\"Acesso bloqueado\")\n",
        "\n",
        "\n",
        "\n"
      ],
      "metadata": {
        "colab": {
          "base_uri": "https://localhost:8080/"
        },
        "id": "IEtBBLm2z5Ws",
        "outputId": "a1395b01-1ec5-4e3c-b265-ae810754e848"
      },
      "execution_count": null,
      "outputs": [
        {
          "output_type": "stream",
          "name": "stdout",
          "text": [
            "Digite sua udade: 3\n",
            "Você é menor de idade\n",
            "Acesso bloqueado\n"
          ]
        }
      ]
    },
    {
      "cell_type": "markdown",
      "source": [
        "##Operadores relacionais"
      ],
      "metadata": {
        "id": "1VKSuC-f1JcT"
      }
    },
    {
      "cell_type": "code",
      "source": [
        "# prompt: operadores relacionais\n",
        "\n",
        "# Operadores Relacionais em Python\n",
        "\n",
        "a = 10\n",
        "b = 5\n",
        "\n",
        "# Igualdade\n",
        "print(f\"a == b: {a == b}\")  # False\n",
        "\n",
        "# Diferença\n",
        "print(f\"a != b: {a != b}\")  # True\n",
        "\n",
        "# Maior que\n",
        "print(f\"a > b: {a > b}\")  # True\n",
        "\n",
        "# Menor que\n",
        "print(f\"a < b: {a < b}\")  # False\n",
        "\n",
        "# Maior ou igual a\n",
        "print(f\"a >= b: {a >= b}\")  # True\n",
        "\n",
        "# Menor ou igual a\n",
        "print(f\"a <= b: {a <= b}\")  # False\n"
      ],
      "metadata": {
        "id": "r8092kgU1Mbp"
      },
      "execution_count": null,
      "outputs": []
    },
    {
      "cell_type": "code",
      "source": [
        "# prompt: operadores lógico\n",
        "\n",
        "# Operadores Lógicos em Python\n",
        "\n",
        "a = True\n",
        "b = False\n",
        "\n",
        "# AND lógico (e)\n",
        "print(f\"a and b: {a and b}\")  # False (ambas as condições precisam ser verdadeiras)\n",
        "\n",
        "# OR lógico (ou)\n",
        "print(f\"a or b: {a or b}\")  # True (pelo menos uma das condições precisa ser verdadeira)\n",
        "\n",
        "# NOT lógico (não)\n",
        "print(f\"not a: {not a}\")  # False (inverte o valor booleano)\n",
        "\n",
        "\n",
        "# Exemplos adicionais de operadores lógicos:\n",
        "\n",
        "idade = 20\n",
        "possui_carteira = True\n",
        "\n",
        "# Verifica se a pessoa é maior de idade E possui carteira de motorista\n",
        "if idade >= 18 and possui_carteira:\n",
        "    print(\"Pode dirigir.\")\n",
        "else:\n",
        "    print(\"Não pode dirigir.\")\n",
        "\n",
        "# Verifica se a pessoa é menor de idade OU não possui carteira de motorista\n",
        "if idade < 18 or not possui_carteira:\n",
        "    print(\"Não pode dirigir.\")\n",
        "else:\n",
        "    print(\"Pode dirigir.\")\n",
        "\n",
        "temperatura = 25\n",
        "umidade = 70\n",
        "\n",
        "# Verifica se a temperatura está acima de 20 graus E a umidade está acima de 60%\n",
        "if temperatura > 20 and umidade > 60:\n",
        "    print(\"Condições propícias para chuva.\")\n",
        "else:\n",
        "    print(\"Condições não propícias para chuva.\")\n",
        "\n",
        "\n",
        "#Outro exemplo com NOT\n",
        "tem_chuva = False\n",
        "if not tem_chuva: # se não estiver chovendo\n",
        "  print(\"Podemos ir ao parque\")\n",
        "else:\n",
        "  print(\"Vamos ficar em casa\")\n"
      ],
      "metadata": {
        "id": "1MmLVZdA7Igp"
      },
      "execution_count": null,
      "outputs": []
    },
    {
      "cell_type": "markdown",
      "source": [],
      "metadata": {
        "id": "NC2qqcQl7INx"
      }
    },
    {
      "cell_type": "code",
      "source": [
        "tem_chuva = False\n",
        "if not tem_chuva:\n",
        "  print(\"Podemos ir ao parque\")\n",
        "else:\n",
        "  print(\"Vamos ficar em casa\")\n"
      ],
      "metadata": {
        "colab": {
          "base_uri": "https://localhost:8080/"
        },
        "id": "J13h03jKSG_3",
        "outputId": "b5ebd974-ebe3-4524-cdca-608615a56b09"
      },
      "execution_count": null,
      "outputs": [
        {
          "output_type": "stream",
          "name": "stdout",
          "text": [
            "Podemos ir ao parque\n"
          ]
        }
      ]
    },
    {
      "cell_type": "markdown",
      "source": [
        "Desvio condicional composto: Quanto temos uma situação em que dependendo da condição OU outro executa"
      ],
      "metadata": {
        "id": "2Smz-EKIVd2D"
      }
    },
    {
      "cell_type": "code",
      "source": [
        "num = int(input(\"Digite algum número: \"))\n",
        "if num % 2 == 0:\n",
        "  print(f\"O número {num} é par\")\n",
        "else:\n",
        "  print(f\"O número {num} é ímpar\")\n"
      ],
      "metadata": {
        "colab": {
          "base_uri": "https://localhost:8080/"
        },
        "id": "vY8vd-icSZQ1",
        "outputId": "9222e769-05a1-4709-b739-9ad4470a4548"
      },
      "execution_count": null,
      "outputs": [
        {
          "output_type": "stream",
          "name": "stdout",
          "text": [
            "Digite algum número: 4\n",
            "O número 4 é par\n"
          ]
        }
      ]
    },
    {
      "cell_type": "code",
      "source": [
        "#função de verificação de idade\n",
        "def verificar_idade():\n",
        "  try:\n",
        "    idade = int(input(\"Digite sua idade: \"))\n",
        "    if idade < 0:\n",
        "      print(\"Idade inválida. Por favor, digite uma idade positiva\")\n",
        "    else:\n",
        "      if idade < 18:\n",
        "        print(\"Você é menor de idade.\")\n",
        "      else:\n",
        "        print(\"Você é maior de idade\")\n",
        "  except ValueError:\n",
        "    print(\"Entrada inválida. Por favor, digite um número inteiro.\")\n",
        "\n",
        "# Chama a função para a verificar a idade\n",
        "\n",
        "verificar_idade()\n",
        "\n"
      ],
      "metadata": {
        "colab": {
          "base_uri": "https://localhost:8080/"
        },
        "id": "Oz43Y21eXgeY",
        "outputId": "8309ba27-a6a4-46f6-a924-aba6cb232a4b"
      },
      "execution_count": null,
      "outputs": [
        {
          "output_type": "stream",
          "name": "stdout",
          "text": [
            "Digite sua idade: ç\n",
            "Entrada inválida. Por favor, digite um número inteiro.\n"
          ]
        }
      ]
    },
    {
      "cell_type": "code",
      "source": [
        "print('Frutas \\n1-Maçã', '\\n2-Laranja', '\\n3-Banana')\n",
        "produto = int(input('Qual sua escolha? '))\n",
        "qtd = int(input('Qual a quantidade?'))\n",
        "valorMaca = 2.3\n",
        "valorLaranja = 3.6\n",
        "valorBanana = 1.85\n",
        "\n",
        "if produto == 1:\n",
        "  valorFinal = qtd * valorMaca\n",
        "  print(f'O valor final é de: {valorFinal:.2}')\n",
        "elif produto == 2:\n",
        "  valorFinal = qtd * valorLaranja\n",
        "  print(f'O valor final é de: {valorFinal:.2}')\n",
        "elif produto == 3:\n",
        "  valorFinal = qtd * valorBanana\n",
        "  print(f'O valor final é de: {valorFinal:.2}')\n",
        "else:\n",
        "  print('Produto não encontrado')\n"
      ],
      "metadata": {
        "colab": {
          "base_uri": "https://localhost:8080/"
        },
        "id": "1EAyZfF3NWbH",
        "outputId": "fdfc1809-66a8-4b4e-e85f-38f66818a59f"
      },
      "execution_count": null,
      "outputs": [
        {
          "output_type": "stream",
          "name": "stdout",
          "text": [
            "Frutas \n",
            "1-Maçã \n",
            "2-Laranja \n",
            "3-Banana\n",
            "Qual sua escolha? 1\n",
            "Qual a quantidade?2\n",
            "O valor final é de: 4.6\n"
          ]
        }
      ]
    },
    {
      "cell_type": "code",
      "source": [
        "num1 = int(input('Digite um numero: '))\n",
        "num2 = int(input('Digite outr numero:'))\n",
        "num3 = int(input('Digite um último númeor: '))\n",
        "if num1 == num2 and num1 == num3:\n",
        "  print('Todos iguais')\n",
        "elif num1>=num2 and num1>=num2:\n",
        "  print('Maior numero é o primeiro', num1)\n",
        "elif num2>=num1 and num2>=num3:\n",
        "  print('Maior número doi o segundo ', num2)\n",
        "elif num3>=num1 and num3>=num2:\n",
        "  print('Maior numero é o terceiro', num3)\n",
        "\n",
        "\n"
      ],
      "metadata": {
        "colab": {
          "base_uri": "https://localhost:8080/"
        },
        "id": "AyCqsGOMQByG",
        "outputId": "fd07d946-42d9-4670-b535-ce9b9e0bf14e"
      },
      "execution_count": null,
      "outputs": [
        {
          "output_type": "stream",
          "name": "stdout",
          "text": [
            "Digite um numero: 10\n",
            "Digite outr numero:20\n",
            "Digite um último númeor: 30\n",
            "Maior numero é o terceiro 30\n"
          ]
        }
      ]
    },
    {
      "cell_type": "code",
      "source": [
        "nota1 = float(input('Digite a primeira nota:'))\n",
        "nota2 = float(input('Digite a segunda nota: '))\n",
        "nota3 = float(input('Digite a terceira nota: '))\n",
        "media = (nota1 + nota2 + nota3) / 3\n",
        "if media >= 7:\n",
        "  print('Aprovado')\n",
        "elif media>=4:\n",
        "  print('final')\n",
        "else:\n",
        "  print('Reprovado')\n",
        "print(f'Soma {media:.2f}')\n",
        "\n"
      ],
      "metadata": {
        "colab": {
          "base_uri": "https://localhost:8080/"
        },
        "id": "CqWJWfIIfW9L",
        "outputId": "89c5420b-08a1-4c68-af9c-5bc0ecb21171"
      },
      "execution_count": null,
      "outputs": [
        {
          "output_type": "stream",
          "name": "stdout",
          "text": [
            "Digite a primeira nota:40\n",
            "Digite a segunda nota: 50\n",
            "Digite a terceira nota: 20\n",
            "Aprovado\n",
            "Soma 36.67\n"
          ]
        }
      ]
    },
    {
      "cell_type": "code",
      "source": [
        "ano = int(input('Digite o ano: '))\n",
        "if (ano % 4 == 0 and ano % 100 != 0) or (ano % 400 == 0):\n",
        "  print(f'{ano} é bissexto')\n",
        "else:\n",
        "  print(f'{ano} não é bissexto')\n",
        "\n"
      ],
      "metadata": {
        "colab": {
          "base_uri": "https://localhost:8080/"
        },
        "id": "D2-HpvU-hwcK",
        "outputId": "faf06d96-6c7e-4250-9064-484366263073"
      },
      "execution_count": null,
      "outputs": [
        {
          "output_type": "stream",
          "name": "stdout",
          "text": [
            "Digite o ano: 2000\n",
            "2000 é bissexto\n"
          ]
        }
      ]
    },
    {
      "cell_type": "code",
      "source": [
        "div = 2000 % 100\n",
        "print(f'Div: {div:.2f}')"
      ],
      "metadata": {
        "colab": {
          "base_uri": "https://localhost:8080/"
        },
        "id": "-nVmiKwYhtke",
        "outputId": "8bfdc994-7fcc-49bf-9b1c-5a59a71d18ed"
      },
      "execution_count": null,
      "outputs": [
        {
          "output_type": "stream",
          "name": "stdout",
          "text": [
            "Div: 0.00\n"
          ]
        }
      ]
    },
    {
      "cell_type": "markdown",
      "source": [
        "##Estrutura de Repetição"
      ],
      "metadata": {
        "id": "S-2YEhE50flI"
      }
    },
    {
      "cell_type": "code",
      "source": [
        "dedos = 0\n",
        "while dedos < 5:\n",
        "  print(f'Bom dia numero {dedos}')\n",
        "  dedos = dedos + 1\n",
        "print('Fim')"
      ],
      "metadata": {
        "colab": {
          "base_uri": "https://localhost:8080/"
        },
        "id": "UBqGZM3d0jGg",
        "outputId": "c0fdb194-4905-4613-f631-d1c20533b57f"
      },
      "execution_count": 6,
      "outputs": [
        {
          "output_type": "stream",
          "name": "stdout",
          "text": [
            "Bom dia numero 0\n",
            "Bom dia numero 1\n",
            "Bom dia numero 2\n",
            "Bom dia numero 3\n",
            "Bom dia numero 4\n",
            "Fim\n"
          ]
        }
      ]
    },
    {
      "cell_type": "markdown",
      "source": [
        "Contador"
      ],
      "metadata": {
        "id": "fvVEngaO9wPl"
      }
    },
    {
      "cell_type": "code",
      "source": [
        "start = int(input('Digite o inicio: '))\n",
        "end = int(input('Digite o fim: '))\n",
        "while start <= end:\n",
        "  print(start)\n",
        "  start += 1\n",
        "print('Fim')\n"
      ],
      "metadata": {
        "colab": {
          "base_uri": "https://localhost:8080/"
        },
        "id": "hmf72UX67-OE",
        "outputId": "5a9b1956-1feb-4472-c9f2-97e85f1b6c70"
      },
      "execution_count": 16,
      "outputs": [
        {
          "output_type": "stream",
          "name": "stdout",
          "text": [
            "Digite o inicio: 19\n",
            "Digite o fim: 20\n",
            "19 [20]\n",
            "20 [20]\n",
            "Fim\n"
          ]
        }
      ]
    },
    {
      "cell_type": "markdown",
      "source": [
        "Soma\n"
      ],
      "metadata": {
        "id": "nJeljDYH9ygE"
      }
    },
    {
      "cell_type": "code",
      "source": [
        "start = int(input('Digite o inicio: '))\n",
        "end = int(input('Digite o fim:'))\n",
        "i = start\n",
        "soma = 0\n",
        "while i <= end:\n",
        "  print('Valor: ', i)\n",
        "  soma += i\n",
        "  i+=1\n",
        "print('Soma: ', soma)\n",
        "print('end code')\n",
        "print(f'{soma} + {i} = {soma + i}')\n"
      ],
      "metadata": {
        "colab": {
          "base_uri": "https://localhost:8080/"
        },
        "id": "afXVnHQg90Cs",
        "outputId": "8962b9c0-6f77-4014-cc5c-a23cb26cf653"
      },
      "execution_count": 23,
      "outputs": [
        {
          "output_type": "stream",
          "name": "stdout",
          "text": [
            "Digite o inicio: 1\n",
            "Digite o fim:10\n",
            "Valor:  1\n",
            "Valor:  2\n",
            "Valor:  3\n",
            "Valor:  4\n",
            "Valor:  5\n",
            "Valor:  6\n",
            "Valor:  7\n",
            "Valor:  8\n",
            "Valor:  9\n",
            "Valor:  10\n",
            "Soma:  55\n",
            "end code\n",
            "55 + 11 = 66\n"
          ]
        }
      ]
    },
    {
      "cell_type": "markdown",
      "source": [
        "Decremental"
      ],
      "metadata": {
        "id": "2g2kRFtFIUoV"
      }
    },
    {
      "cell_type": "code",
      "source": [
        "i = 10\n",
        "while i >=1:\n",
        "  print('Contagem: ',i)\n",
        "  i-=1"
      ],
      "metadata": {
        "colab": {
          "base_uri": "https://localhost:8080/"
        },
        "id": "UaeAnjymHw1a",
        "outputId": "43e81b58-b58e-48fd-82f5-fe0a32a6469d"
      },
      "execution_count": 24,
      "outputs": [
        {
          "output_type": "stream",
          "name": "stdout",
          "text": [
            "Contagem:  10\n",
            "Contagem:  9\n",
            "Contagem:  8\n",
            "Contagem:  7\n",
            "Contagem:  6\n",
            "Contagem:  5\n",
            "Contagem:  4\n",
            "Contagem:  3\n",
            "Contagem:  2\n",
            "Contagem:  1\n"
          ]
        }
      ]
    },
    {
      "cell_type": "markdown",
      "source": [
        "Validação, valor positivo\n"
      ],
      "metadata": {
        "id": "3TDubnstacGT"
      }
    },
    {
      "cell_type": "code",
      "source": [
        "num = int(input('Digite um valor positivo: '))\n",
        "while num <=0:\n",
        "  num = int(input('Digite um valor positivo: '))\n",
        "print('O valor positivo foi: ', num)\n"
      ],
      "metadata": {
        "colab": {
          "base_uri": "https://localhost:8080/"
        },
        "id": "cpWOvqoIaf77",
        "outputId": "a18a3323-a46c-45b9-b1d0-657ef888a4c1"
      },
      "execution_count": 27,
      "outputs": [
        {
          "output_type": "stream",
          "name": "stdout",
          "text": [
            "Digite um valor positivo: -1\n",
            "Digite um valor positivo: -3\n",
            "Digite um valor positivo: -4\n",
            "Digite um valor positivo: -2\n",
            "Digite um valor positivo: -5\n",
            "Digite um valor positivo: 9\n",
            "O valor positivo foi:  9\n"
          ]
        }
      ]
    },
    {
      "cell_type": "markdown",
      "source": [
        "Validação, valor com 3 dígitos"
      ],
      "metadata": {
        "id": "EDPbe8w8bM5Q"
      }
    },
    {
      "cell_type": "code",
      "source": [
        "num = int(input('Digite um valor de 3 dígitos: '))\n",
        "while num>100 or num>999:\n",
        "  num = int(input('Digite um valor de 3 dígitos:'))\n",
        "print('O valor positivo digitado foi: ', num)"
      ],
      "metadata": {
        "colab": {
          "base_uri": "https://localhost:8080/"
        },
        "id": "FsthOnh2bPmg",
        "outputId": "a37771f7-a737-49f0-e5fe-0382dba71519"
      },
      "execution_count": 30,
      "outputs": [
        {
          "output_type": "stream",
          "name": "stdout",
          "text": [
            "Digite um valor de 3 dígitos: 33\n",
            "O valor positivo digitado foi:  33\n"
          ]
        }
      ]
    },
    {
      "cell_type": "markdown",
      "source": [
        "Combinando WHILE e IF"
      ],
      "metadata": {
        "id": "k7AT7Hgcc_iB"
      }
    },
    {
      "cell_type": "code",
      "source": [
        "i=0\n",
        "while i<=100:\n",
        "  if i % 5 ==0:\n",
        "    print('Multiplo de 5: ', i)\n",
        "  i+=1\n"
      ],
      "metadata": {
        "id": "oK2VZYHidD2o"
      },
      "execution_count": null,
      "outputs": []
    },
    {
      "cell_type": "markdown",
      "source": [
        "Exemplo - Fatorial"
      ],
      "metadata": {
        "id": "e-Hkevr7dl82"
      }
    },
    {
      "cell_type": "code",
      "source": [
        "fat = 1\n",
        "i=1\n",
        "num = int(input('Digite um valor para o fatorial:'))\n",
        "while i <= num:\n",
        "  fat *=i\n",
        "  i +=1\n",
        "print('Fatorial: ', fat)"
      ],
      "metadata": {
        "colab": {
          "base_uri": "https://localhost:8080/"
        },
        "id": "vEgsR7nddpDu",
        "outputId": "e89c7911-e551-4ffe-8f2f-16c9ab8a3cc6"
      },
      "execution_count": 33,
      "outputs": [
        {
          "output_type": "stream",
          "name": "stdout",
          "text": [
            "Digite um valor para o fatorial:5\n",
            "Fatorial:  120\n"
          ]
        }
      ]
    },
    {
      "cell_type": "code",
      "source": [
        "import math\n",
        "resposta = math.factorial(4)\n",
        "print(resposta)\n"
      ],
      "metadata": {
        "colab": {
          "base_uri": "https://localhost:8080/"
        },
        "id": "g7ekwFh0eCCd",
        "outputId": "ae3d741b-d3db-4a52-ddb4-8efb733bb53f"
      },
      "execution_count": 34,
      "outputs": [
        {
          "output_type": "stream",
          "name": "stdout",
          "text": [
            "24\n"
          ]
        }
      ]
    }
  ]
}